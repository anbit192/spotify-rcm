{
 "cells": [
  {
   "cell_type": "code",
   "execution_count": 4,
   "metadata": {},
   "outputs": [],
   "source": [
    "import numpy as np\n",
    "import pandas as pd\n",
    "import pickle\n",
    "import os"
   ]
  },
  {
   "cell_type": "code",
   "execution_count": 5,
   "metadata": {},
   "outputs": [
    {
     "data": {
      "text/plain": [
       "['track_infos_2046512_2196512.pickle', 'track_infos_2196513_2246213.pickle']"
      ]
     },
     "execution_count": 5,
     "metadata": {},
     "output_type": "execute_result"
    }
   ],
   "source": [
    "# pickle_files = os.listdir(\"./pickles\")\n",
    "pickle_files = [\"track_infos_2046512_2196512.pickle\", \"track_infos_2196513_2246213.pickle\"]\n",
    "pickle_files"
   ]
  },
  {
   "cell_type": "code",
   "execution_count": 6,
   "metadata": {},
   "outputs": [],
   "source": [
    "with open(f\"pickles/track_infos_1696709_1846709.pickle\", \"rb\") as f:\n",
    "    data = pickle.load(f)\n",
    "\n",
    "size = len(data.keys())"
   ]
  },
  {
   "cell_type": "code",
   "execution_count": 7,
   "metadata": {},
   "outputs": [
    {
     "data": {
      "text/plain": [
       "array(['ID', 'artist_name', 'track_name', 'audio_feats_danceability',\n",
       "       'audio_feats_energy', 'audio_feats_key', 'audio_feats_loudness',\n",
       "       'audio_feats_mode', 'audio_feats_speechiness',\n",
       "       'audio_feats_acousticness', 'audio_feats_instrumentalness',\n",
       "       'audio_feats_liveness', 'audio_feats_valence', 'audio_feats_tempo',\n",
       "       'audio_feats_duration_ms', 'audio_feats_time_signature'],\n",
       "      dtype=object)"
      ]
     },
     "execution_count": 7,
     "metadata": {},
     "output_type": "execute_result"
    }
   ],
   "source": [
    "cols = pd.json_normalize(data[\"0fjltEvo8gWNcBUhzeHr5e\"], sep=\"_\").columns\n",
    "cols = np.hstack((\"ID\", cols))\n",
    "cols"
   ]
  },
  {
   "cell_type": "code",
   "execution_count": 8,
   "metadata": {},
   "outputs": [
    {
     "data": {
      "text/plain": [
       "array([1, 2, 3, 4])"
      ]
     },
     "execution_count": 8,
     "metadata": {},
     "output_type": "execute_result"
    }
   ],
   "source": [
    "np.hstack((1, [2, 3, 4]))"
   ]
  },
  {
   "cell_type": "code",
   "execution_count": 9,
   "metadata": {},
   "outputs": [],
   "source": [
    "def get_rows(data):\n",
    "    rows = []\n",
    "    for i, key in enumerate(data.keys()):\n",
    "        row = pd.json_normalize(data[key]).to_numpy().flatten()\n",
    "        row = np.hstack((key, row))\n",
    "        rows.append(row)\n",
    "\n",
    "    return rows"
   ]
  },
  {
   "cell_type": "code",
   "execution_count": 10,
   "metadata": {},
   "outputs": [],
   "source": [
    "def csv_dump():\n",
    "\n",
    "    for pkl_file in pickle_files:\n",
    "        with open(f\"pickles/{pkl_file}\", \"rb\") as f:\n",
    "            data = pickle.load(f)\n",
    "        rows = get_rows(data)\n",
    "\n",
    "        pd.DataFrame(rows,columns=cols).to_csv(\"data.csv\", mode=\"a\", index=False, header=False)\n",
    "\n",
    "csv_dump()"
   ]
  },
  {
   "cell_type": "code",
   "execution_count": null,
   "metadata": {},
   "outputs": [],
   "source": []
  }
 ],
 "metadata": {
  "kernelspec": {
   "display_name": "Python 3",
   "language": "python",
   "name": "python3"
  },
  "language_info": {
   "codemirror_mode": {
    "name": "ipython",
    "version": 3
   },
   "file_extension": ".py",
   "mimetype": "text/x-python",
   "name": "python",
   "nbconvert_exporter": "python",
   "pygments_lexer": "ipython3",
   "version": "3.11.3"
  }
 },
 "nbformat": 4,
 "nbformat_minor": 2
}
