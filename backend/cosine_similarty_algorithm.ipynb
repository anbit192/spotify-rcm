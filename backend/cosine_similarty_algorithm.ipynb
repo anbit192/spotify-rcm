{
 "cells": [
  {
   "cell_type": "code",
   "execution_count": null,
   "metadata": {},
   "outputs": [],
   "source": [
    "from sklearn.neighbors import KDTree\n",
    "\n",
    "def get_top10_neighborest(vector_input, vector_compare):\n",
    "\n",
    "    kdtree = KDTree(vector_compare)\n",
    "\n",
    "    num_neighbors = 10  # Số lượng hàng xóm gần nhất cần tìm\n",
    "\n",
    "    distances, indices = kdtree.query([vector_input], k=num_neighbors, return_distance=True)\n",
    "\n",
    "    return distances, indices"
   ]
  }
 ],
 "metadata": {
  "language_info": {
   "name": "python"
  }
 },
 "nbformat": 4,
 "nbformat_minor": 2
}
