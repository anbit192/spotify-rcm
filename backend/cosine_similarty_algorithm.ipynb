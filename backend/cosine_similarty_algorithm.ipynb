{
 "cells": [
  {
   "cell_type": "code",
   "execution_count": 32,
   "metadata": {},
   "outputs": [],
   "source": [
    "import numpy as np\n",
    "from sklearn.neighbors import KDTree\n",
    "\n",
    "def cosine_similarity(a, b):\n",
    "    dot_product = np.dot(a, b)\n",
    "    norm_a = np.linalg.norm(a)\n",
    "    norm_b = np.linalg.norm(b)\n",
    "    similarity = dot_product / (norm_a * norm_b)\n",
    "    return similarity\n",
    "\n",
    "def get_top10_nearest(vector_input, vector_compare):\n",
    "    # Chuẩn hóa các vector trong vector_compare\n",
    "    norms = np.linalg.norm(vector_compare, axis=1)\n",
    "    normalized_compare = vector_compare / norms[:, np.newaxis]\n",
    "\n",
    "    # Chuẩn hóa vector_input\n",
    "    normalized_input = vector_input / np.linalg.norm(vector_input)\n",
    "\n",
    "    # Sử dụng KDTree trên vector_compare chuẩn hóa\n",
    "    kdtree = KDTree(normalized_compare)\n",
    "\n",
    "    num_neighbors = 10  # Số lượng hàng xóm gần nhất cần tìm\n",
    "\n",
    "    # Tìm kiếm hàng xóm gần nhất trong KDTree\n",
    "    distances, indices = kdtree.query([normalized_input], k=num_neighbors, return_distance=True)\n",
    "\n",
    "    # Tính toán cosine similarity\n",
    "    similarities = [cosine_similarity(normalized_input, normalized_compare[i]) for i in indices[0]]\n",
    "\n",
    "    return similarities, indices[0]"
   ]
  },
  {
   "cell_type": "code",
   "execution_count": 23,
   "metadata": {},
   "outputs": [],
   "source": [
    "import faiss\n",
    "import numpy as np\n",
    "import pandas as pd\n",
    "\n",
    "def cosine_similarity(a, b):\n",
    "    dot_product = np.dot(a, b)\n",
    "    norm_a = np.linalg.norm(a)\n",
    "    norm_b = np.linalg.norm(b)\n",
    "    similarity = dot_product / (norm_a * norm_b)\n",
    "    return similarity\n",
    "\n",
    "\n",
    "def get_closest(vector_input:np.array, df: pd.DataFrame):\n",
    "    # Chuẩn hóa các vector thành độ dài 1\n",
    "    normalized_input = vector_input / np.linalg.norm(vector_input)\n",
    "    normalized_compare = df.values / np.linalg.norm(df.values, axis=1)[:, np.newaxis]\n",
    "\n",
    "    # Xây dựng chỉ số Faiss\n",
    "    index = faiss.IndexFlatIP(df.values.shape[1])  # vector_compare.shape[1] là số chiều của vector\n",
    "    index.add(normalized_compare)\n",
    "\n",
    "    num_neighbors = 10  # Số lượng hàng xóm gần nhất cần tìm\n",
    "\n",
    "    # Tìm kiếm hàng xóm gần nhất\n",
    "    distances, indices = index.search(np.array([normalized_input]), k=num_neighbors)\n",
    "\n",
    "    # Tính toán cosine similarity\n",
    "    similarities = [cosine_similarity(normalized_input, normalized_compare[i]) for i in indices[0]]\n",
    "\n",
    "    return similarities, indices[0]"
   ]
  },
  {
   "cell_type": "code",
   "execution_count": 24,
   "metadata": {},
   "outputs": [],
   "source": [
    "data = pd.read_csv('./processed_data.csv')\n",
    "df = data.drop(columns=[\"ID\", \"artist_name\", \"track_name\", \"audio_feats_key\", \"audio_feats_mode\", \"audio_feats_time_signature\", \"label\"]).dropna()"
   ]
  },
  {
   "cell_type": "code",
   "execution_count": 25,
   "metadata": {},
   "outputs": [
    {
     "data": {
      "text/plain": [
       "(2149378, 10)"
      ]
     },
     "execution_count": 25,
     "metadata": {},
     "output_type": "execute_result"
    }
   ],
   "source": [
    "df.values.shape"
   ]
  },
  {
   "cell_type": "code",
   "execution_count": 26,
   "metadata": {},
   "outputs": [
    {
     "data": {
      "text/plain": [
       "(2149378, 10)"
      ]
     },
     "execution_count": 26,
     "metadata": {},
     "output_type": "execute_result"
    }
   ],
   "source": [
    "df.shape"
   ]
  },
  {
   "cell_type": "code",
   "execution_count": 27,
   "metadata": {},
   "outputs": [
    {
     "data": {
      "text/plain": [
       "array([-9,  9, -3, -1, -1,  0,  6,  8, -4,  6])"
      ]
     },
     "execution_count": 27,
     "metadata": {},
     "output_type": "execute_result"
    }
   ],
   "source": [
    "input_vector = np.random.randint(-10, 10, size = df.shape[1])\n",
    "input_vector"
   ]
  },
  {
   "cell_type": "code",
   "execution_count": 28,
   "metadata": {},
   "outputs": [
    {
     "data": {
      "text/plain": [
       "([0.34218933381745636,\n",
       "  0.3376605064460142,\n",
       "  0.33705913130868465,\n",
       "  0.3358309466584777,\n",
       "  0.33527855190250794,\n",
       "  0.33527855190250794,\n",
       "  0.33527855190250794,\n",
       "  0.33527855190250794,\n",
       "  0.33527855190250794,\n",
       "  0.33523866689620824],\n",
       " array([1573409, 1051996, 1280782, 2031104,  542759,  413075,  257965,\n",
       "         257964,  108135, 1066246], dtype=int64))"
      ]
     },
     "execution_count": 28,
     "metadata": {},
     "output_type": "execute_result"
    }
   ],
   "source": [
    "get_closest(input_vector, df)"
   ]
  },
  {
   "cell_type": "code",
   "execution_count": 33,
   "metadata": {},
   "outputs": [
    {
     "data": {
      "text/plain": [
       "([0.34218933381745636,\n",
       "  0.3376605064460142,\n",
       "  0.33705913130868465,\n",
       "  0.3358309466584777,\n",
       "  0.33527855190250794,\n",
       "  0.33527855190250794,\n",
       "  0.33527855190250794,\n",
       "  0.33527855190250794,\n",
       "  0.33527855190250794,\n",
       "  0.33523866689620824],\n",
       " array([1573409, 1051996, 1280782, 2031104,  257964,  542759,  108135,\n",
       "         257965,  413075, 1066246], dtype=int64))"
      ]
     },
     "execution_count": 33,
     "metadata": {},
     "output_type": "execute_result"
    }
   ],
   "source": [
    "get_top10_nearest(input_vector, df.values)"
   ]
  },
  {
   "cell_type": "code",
   "execution_count": 30,
   "metadata": {},
   "outputs": [],
   "source": [
    "result = []\n",
    "for array in df.values:\n",
    "    tichvohuong = np.dot(array, input_vector)\n",
    "    ketqua = (tichvohuong) / (np.linalg.norm(array) * np.linalg.norm(input_vector))\n",
    "    result.append(ketqua)\n",
    "\n",
    "result = sorted(result, reverse=True)[:10]"
   ]
  },
  {
   "cell_type": "code",
   "execution_count": 31,
   "metadata": {},
   "outputs": [
    {
     "data": {
      "text/plain": [
       "[0.3421893338174563,\n",
       " 0.3376605064460141,\n",
       " 0.3370591313086846,\n",
       " 0.3358309466584777,\n",
       " 0.33527855190250794,\n",
       " 0.33527855190250794,\n",
       " 0.33527855190250794,\n",
       " 0.33527855190250794,\n",
       " 0.33527855190250794,\n",
       " 0.33523866689620824]"
      ]
     },
     "execution_count": 31,
     "metadata": {},
     "output_type": "execute_result"
    }
   ],
   "source": [
    "result"
   ]
  },
  {
   "cell_type": "code",
   "execution_count": 35,
   "metadata": {},
   "outputs": [
    {
     "name": "stdout",
     "output_type": "stream",
     "text": [
      "19.2 s ± 3.51 s per loop (mean ± std. dev. of 7 runs, 1 loop each)\n"
     ]
    }
   ],
   "source": [
    "%timeit get_top10_nearest(input_vector, df.values)"
   ]
  },
  {
   "cell_type": "code",
   "execution_count": 36,
   "metadata": {},
   "outputs": [
    {
     "name": "stdout",
     "output_type": "stream",
     "text": [
      "670 ms ± 37.5 ms per loop (mean ± std. dev. of 7 runs, 1 loop each)\n"
     ]
    }
   ],
   "source": [
    "%timeit get_closest(input_vector, df)"
   ]
  },
  {
   "cell_type": "markdown",
   "metadata": {},
   "source": [
    "Sử dụng KDtree mất khoảng 19.2s\n",
    "Sử dụng Faiss mất khoảng 0.67s"
   ]
  }
 ],
 "metadata": {
  "kernelspec": {
   "display_name": "Python 3",
   "language": "python",
   "name": "python3"
  },
  "language_info": {
   "codemirror_mode": {
    "name": "ipython",
    "version": 3
   },
   "file_extension": ".py",
   "mimetype": "text/x-python",
   "name": "python",
   "nbconvert_exporter": "python",
   "pygments_lexer": "ipython3",
   "version": "3.9.7"
  }
 },
 "nbformat": 4,
 "nbformat_minor": 2
}
