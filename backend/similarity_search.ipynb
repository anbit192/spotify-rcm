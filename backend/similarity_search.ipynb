{
 "cells": [
  {
   "cell_type": "code",
   "execution_count": 3,
   "metadata": {},
   "outputs": [],
   "source": [
    "import numpy as np\n",
    "import pandas as pd\n",
    "from sklearn.neighbors import KDTree\n",
    "from sklearn.model_selection import train_test_split\n",
    "from pathlib import Path\n",
    "import os\n",
    "from sklearn.preprocessing import StandardScaler\n",
    "from sklearn.decomposition import PCA\n",
    "from sklearn.cluster import KMeans\n",
    "import pickle\n",
    "import faiss\n",
    "from scipy.spatial.distance import cdist"
   ]
  },
  {
   "cell_type": "markdown",
   "metadata": {},
   "source": [
    "## Lấy ra các pretrain models"
   ]
  },
  {
   "cell_type": "code",
   "execution_count": 4,
   "metadata": {},
   "outputs": [],
   "source": [
    "cwd = Path(os.getcwd())\n",
    "model_path = cwd / \"models\"\n",
    "\n",
    "with open(model_path / \"pca.pickle\", \"rb\") as f:\n",
    "    pca: PCA = pickle.load(f)\n",
    "\n",
    "with open(model_path / \"scaler.pickle\", \"rb\") as f:\n",
    "    scaler: StandardScaler = pickle.load(f)\n",
    "\n",
    "with open(model_path / \"kmean.pickle\", \"rb\") as f:\n",
    "    k_mean: KMeans = pickle.load(f)"
   ]
  },
  {
   "cell_type": "markdown",
   "metadata": {},
   "source": [
    "## Các cách tính toán độ giống nhau"
   ]
  },
  {
   "cell_type": "markdown",
   "metadata": {},
   "source": [
    "- FAISS "
   ]
  },
  {
   "cell_type": "code",
   "execution_count": 5,
   "metadata": {},
   "outputs": [],
   "source": [
    "def get_closest(vector_input, df):\n",
    "    # Chuẩn hóa các vector thành độ dài 1\n",
    "    normalized_input = vector_input / np.linalg.norm(vector_input)\n",
    "    normalized_compare = df / np.linalg.norm(df, axis=1)[:, np.newaxis]\n",
    "\n",
    "    # normalized_input = vector_input\n",
    "    # normalized_compare = df\n",
    "    # Xây dựng chỉ số Faiss\n",
    "    index = faiss.IndexFlatIP(df.shape[1])  # vector_compare.shape[1] là số chiều của vector\n",
    "    index.add(normalized_compare)\n",
    "\n",
    "    num_neighbors = 10  # Số lượng hàng xóm gần nhất cần tìm\n",
    "\n",
    "    # Tìm kiếm hàng xóm gần nhất\n",
    "    distances, indices = index.search(np.array([normalized_input]), k=num_neighbors)\n",
    "\n",
    "    return distances, indices[0]"
   ]
  },
  {
   "cell_type": "markdown",
   "metadata": {},
   "source": [
    "- KDTree"
   ]
  },
  {
   "cell_type": "code",
   "execution_count": 6,
   "metadata": {},
   "outputs": [],
   "source": [
    "def get_top10_neighborest(vector_input, vector_compare):\n",
    "\n",
    "    kdtree = KDTree(vector_compare)\n",
    "    num_neighbors = 10 \n",
    "\n",
    "    distances, indices = kdtree.query([vector_input], k=num_neighbors, return_distance=True)\n",
    "\n",
    "    return distances, indices"
   ]
  },
  {
   "cell_type": "markdown",
   "metadata": {},
   "source": [
    "- Công thức cosine sim bình thường"
   ]
  },
  {
   "cell_type": "code",
   "execution_count": 7,
   "metadata": {},
   "outputs": [],
   "source": [
    "def cosine_similarity(a, b):\n",
    "    dot_product = np.dot(a, b)\n",
    "    norm_a = np.linalg.norm(a, axis=1)\n",
    "    norm_b = np.linalg.norm(b)\n",
    "    similarity = dot_product / (norm_a * norm_b)\n",
    "    return similarity"
   ]
  },
  {
   "cell_type": "markdown",
   "metadata": {},
   "source": [
    "## Dữ liệu"
   ]
  },
  {
   "cell_type": "markdown",
   "metadata": {},
   "source": [
    "### Đọc dữ liệu"
   ]
  },
  {
   "cell_type": "code",
   "execution_count": 8,
   "metadata": {},
   "outputs": [
    {
     "data": {
      "text/html": [
       "<div>\n",
       "<style scoped>\n",
       "    .dataframe tbody tr th:only-of-type {\n",
       "        vertical-align: middle;\n",
       "    }\n",
       "\n",
       "    .dataframe tbody tr th {\n",
       "        vertical-align: top;\n",
       "    }\n",
       "\n",
       "    .dataframe thead th {\n",
       "        text-align: right;\n",
       "    }\n",
       "</style>\n",
       "<table border=\"1\" class=\"dataframe\">\n",
       "  <thead>\n",
       "    <tr style=\"text-align: right;\">\n",
       "      <th></th>\n",
       "      <th>ID</th>\n",
       "      <th>artist_name</th>\n",
       "      <th>track_name</th>\n",
       "      <th>audio_feats_danceability</th>\n",
       "      <th>audio_feats_energy</th>\n",
       "      <th>audio_feats_key</th>\n",
       "      <th>audio_feats_loudness</th>\n",
       "      <th>audio_feats_mode</th>\n",
       "      <th>audio_feats_speechiness</th>\n",
       "      <th>audio_feats_acousticness</th>\n",
       "      <th>audio_feats_instrumentalness</th>\n",
       "      <th>audio_feats_liveness</th>\n",
       "      <th>audio_feats_valence</th>\n",
       "      <th>audio_feats_tempo</th>\n",
       "      <th>audio_feats_duration_ms</th>\n",
       "      <th>audio_feats_time_signature</th>\n",
       "      <th>label</th>\n",
       "    </tr>\n",
       "  </thead>\n",
       "  <tbody>\n",
       "    <tr>\n",
       "      <th>0</th>\n",
       "      <td>0UaMYEvWZi0ZqiDOoHU3YI</td>\n",
       "      <td>Missy Elliott</td>\n",
       "      <td>Lose Control (feat. Ciara &amp; Fat Man Scoop)</td>\n",
       "      <td>0.9040</td>\n",
       "      <td>0.8130</td>\n",
       "      <td>4.0</td>\n",
       "      <td>-7.105</td>\n",
       "      <td>0.0</td>\n",
       "      <td>0.1210</td>\n",
       "      <td>0.03110</td>\n",
       "      <td>0.006970</td>\n",
       "      <td>0.0471</td>\n",
       "      <td>0.8100</td>\n",
       "      <td>125.461</td>\n",
       "      <td>226864.0</td>\n",
       "      <td>4.0</td>\n",
       "      <td>30</td>\n",
       "    </tr>\n",
       "    <tr>\n",
       "      <th>1</th>\n",
       "      <td>6I9VzXrHxO9rA9A5euc8Ak</td>\n",
       "      <td>Britney Spears</td>\n",
       "      <td>Toxic</td>\n",
       "      <td>0.7740</td>\n",
       "      <td>0.8380</td>\n",
       "      <td>5.0</td>\n",
       "      <td>-3.914</td>\n",
       "      <td>0.0</td>\n",
       "      <td>0.1140</td>\n",
       "      <td>0.02490</td>\n",
       "      <td>0.025000</td>\n",
       "      <td>0.2420</td>\n",
       "      <td>0.9240</td>\n",
       "      <td>143.040</td>\n",
       "      <td>198800.0</td>\n",
       "      <td>4.0</td>\n",
       "      <td>24</td>\n",
       "    </tr>\n",
       "    <tr>\n",
       "      <th>2</th>\n",
       "      <td>0WqIKmW4BTrj3eJFmnCKMv</td>\n",
       "      <td>Beyoncé</td>\n",
       "      <td>Crazy In Love</td>\n",
       "      <td>0.6640</td>\n",
       "      <td>0.7590</td>\n",
       "      <td>2.0</td>\n",
       "      <td>-6.583</td>\n",
       "      <td>0.0</td>\n",
       "      <td>0.2090</td>\n",
       "      <td>0.00238</td>\n",
       "      <td>0.000000</td>\n",
       "      <td>0.0598</td>\n",
       "      <td>0.7010</td>\n",
       "      <td>99.252</td>\n",
       "      <td>235933.0</td>\n",
       "      <td>4.0</td>\n",
       "      <td>24</td>\n",
       "    </tr>\n",
       "    <tr>\n",
       "      <th>3</th>\n",
       "      <td>1AWQoqb9bSvzTjaLralEkT</td>\n",
       "      <td>Justin Timberlake</td>\n",
       "      <td>Rock Your Body</td>\n",
       "      <td>0.8920</td>\n",
       "      <td>0.7140</td>\n",
       "      <td>4.0</td>\n",
       "      <td>-6.055</td>\n",
       "      <td>0.0</td>\n",
       "      <td>0.1410</td>\n",
       "      <td>0.20100</td>\n",
       "      <td>0.000234</td>\n",
       "      <td>0.0521</td>\n",
       "      <td>0.8170</td>\n",
       "      <td>100.972</td>\n",
       "      <td>267267.0</td>\n",
       "      <td>4.0</td>\n",
       "      <td>30</td>\n",
       "    </tr>\n",
       "    <tr>\n",
       "      <th>4</th>\n",
       "      <td>1lzr43nnXAijIGYnCT8M8H</td>\n",
       "      <td>Shaggy</td>\n",
       "      <td>It Wasn't Me</td>\n",
       "      <td>0.8530</td>\n",
       "      <td>0.6060</td>\n",
       "      <td>0.0</td>\n",
       "      <td>-4.596</td>\n",
       "      <td>1.0</td>\n",
       "      <td>0.0713</td>\n",
       "      <td>0.05610</td>\n",
       "      <td>0.000000</td>\n",
       "      <td>0.3130</td>\n",
       "      <td>0.6540</td>\n",
       "      <td>94.759</td>\n",
       "      <td>227600.0</td>\n",
       "      <td>4.0</td>\n",
       "      <td>24</td>\n",
       "    </tr>\n",
       "    <tr>\n",
       "      <th>...</th>\n",
       "      <td>...</td>\n",
       "      <td>...</td>\n",
       "      <td>...</td>\n",
       "      <td>...</td>\n",
       "      <td>...</td>\n",
       "      <td>...</td>\n",
       "      <td>...</td>\n",
       "      <td>...</td>\n",
       "      <td>...</td>\n",
       "      <td>...</td>\n",
       "      <td>...</td>\n",
       "      <td>...</td>\n",
       "      <td>...</td>\n",
       "      <td>...</td>\n",
       "      <td>...</td>\n",
       "      <td>...</td>\n",
       "      <td>...</td>\n",
       "    </tr>\n",
       "    <tr>\n",
       "      <th>2149373</th>\n",
       "      <td>6cVHCeUEJOz8aW6pgbrSXT</td>\n",
       "      <td>Father Kari, the Gameboy</td>\n",
       "      <td>Trial II. Welcome to Taimagakure, the Wav Village</td>\n",
       "      <td>0.8220</td>\n",
       "      <td>0.6230</td>\n",
       "      <td>10.0</td>\n",
       "      <td>-8.357</td>\n",
       "      <td>1.0</td>\n",
       "      <td>0.3510</td>\n",
       "      <td>0.26900</td>\n",
       "      <td>0.000000</td>\n",
       "      <td>0.1070</td>\n",
       "      <td>0.5730</td>\n",
       "      <td>109.964</td>\n",
       "      <td>280425.0</td>\n",
       "      <td>4.0</td>\n",
       "      <td>49</td>\n",
       "    </tr>\n",
       "    <tr>\n",
       "      <th>2149374</th>\n",
       "      <td>2YpdaJQSPHM1MsMITng93V</td>\n",
       "      <td>Dean Evenson</td>\n",
       "      <td>Let Go</td>\n",
       "      <td>0.0712</td>\n",
       "      <td>0.0310</td>\n",
       "      <td>5.0</td>\n",
       "      <td>-26.889</td>\n",
       "      <td>1.0</td>\n",
       "      <td>0.0531</td>\n",
       "      <td>0.99400</td>\n",
       "      <td>0.982000</td>\n",
       "      <td>0.0995</td>\n",
       "      <td>0.0297</td>\n",
       "      <td>76.160</td>\n",
       "      <td>398707.0</td>\n",
       "      <td>5.0</td>\n",
       "      <td>25</td>\n",
       "    </tr>\n",
       "    <tr>\n",
       "      <th>2149375</th>\n",
       "      <td>7s9RepEmLkr0xx2KeETO9e</td>\n",
       "      <td>Savasana</td>\n",
       "      <td>Ambient Music for Relaxation</td>\n",
       "      <td>0.2040</td>\n",
       "      <td>0.1480</td>\n",
       "      <td>6.0</td>\n",
       "      <td>-22.488</td>\n",
       "      <td>1.0</td>\n",
       "      <td>0.0437</td>\n",
       "      <td>0.97600</td>\n",
       "      <td>0.940000</td>\n",
       "      <td>0.1210</td>\n",
       "      <td>0.0733</td>\n",
       "      <td>89.825</td>\n",
       "      <td>144292.0</td>\n",
       "      <td>3.0</td>\n",
       "      <td>7</td>\n",
       "    </tr>\n",
       "    <tr>\n",
       "      <th>2149376</th>\n",
       "      <td>7DneV7iDFHmuc8wt8sDqzG</td>\n",
       "      <td>Savasana</td>\n",
       "      <td>R-E-M Phase</td>\n",
       "      <td>0.2290</td>\n",
       "      <td>0.0921</td>\n",
       "      <td>9.0</td>\n",
       "      <td>-21.673</td>\n",
       "      <td>1.0</td>\n",
       "      <td>0.0453</td>\n",
       "      <td>0.95900</td>\n",
       "      <td>0.957000</td>\n",
       "      <td>0.1050</td>\n",
       "      <td>0.0351</td>\n",
       "      <td>62.058</td>\n",
       "      <td>203923.0</td>\n",
       "      <td>4.0</td>\n",
       "      <td>25</td>\n",
       "    </tr>\n",
       "    <tr>\n",
       "      <th>2149377</th>\n",
       "      <td>1SP9rV0u8QzHz1KGn3f6QG</td>\n",
       "      <td>Dean Evenson</td>\n",
       "      <td>Quiet Call</td>\n",
       "      <td>0.0650</td>\n",
       "      <td>0.0767</td>\n",
       "      <td>2.0</td>\n",
       "      <td>-24.008</td>\n",
       "      <td>0.0</td>\n",
       "      <td>0.0421</td>\n",
       "      <td>0.98200</td>\n",
       "      <td>0.974000</td>\n",
       "      <td>0.0824</td>\n",
       "      <td>0.0397</td>\n",
       "      <td>70.785</td>\n",
       "      <td>472813.0</td>\n",
       "      <td>4.0</td>\n",
       "      <td>44</td>\n",
       "    </tr>\n",
       "  </tbody>\n",
       "</table>\n",
       "<p>2149378 rows × 17 columns</p>\n",
       "</div>"
      ],
      "text/plain": [
       "                             ID               artist_name   \n",
       "0        0UaMYEvWZi0ZqiDOoHU3YI             Missy Elliott  \\\n",
       "1        6I9VzXrHxO9rA9A5euc8Ak            Britney Spears   \n",
       "2        0WqIKmW4BTrj3eJFmnCKMv                   Beyoncé   \n",
       "3        1AWQoqb9bSvzTjaLralEkT         Justin Timberlake   \n",
       "4        1lzr43nnXAijIGYnCT8M8H                    Shaggy   \n",
       "...                         ...                       ...   \n",
       "2149373  6cVHCeUEJOz8aW6pgbrSXT  Father Kari, the Gameboy   \n",
       "2149374  2YpdaJQSPHM1MsMITng93V              Dean Evenson   \n",
       "2149375  7s9RepEmLkr0xx2KeETO9e                  Savasana   \n",
       "2149376  7DneV7iDFHmuc8wt8sDqzG                  Savasana   \n",
       "2149377  1SP9rV0u8QzHz1KGn3f6QG              Dean Evenson   \n",
       "\n",
       "                                                track_name   \n",
       "0               Lose Control (feat. Ciara & Fat Man Scoop)  \\\n",
       "1                                                    Toxic   \n",
       "2                                            Crazy In Love   \n",
       "3                                           Rock Your Body   \n",
       "4                                             It Wasn't Me   \n",
       "...                                                    ...   \n",
       "2149373  Trial II. Welcome to Taimagakure, the Wav Village   \n",
       "2149374                                             Let Go   \n",
       "2149375                       Ambient Music for Relaxation   \n",
       "2149376                                        R-E-M Phase   \n",
       "2149377                                         Quiet Call   \n",
       "\n",
       "         audio_feats_danceability  audio_feats_energy  audio_feats_key   \n",
       "0                          0.9040              0.8130              4.0  \\\n",
       "1                          0.7740              0.8380              5.0   \n",
       "2                          0.6640              0.7590              2.0   \n",
       "3                          0.8920              0.7140              4.0   \n",
       "4                          0.8530              0.6060              0.0   \n",
       "...                           ...                 ...              ...   \n",
       "2149373                    0.8220              0.6230             10.0   \n",
       "2149374                    0.0712              0.0310              5.0   \n",
       "2149375                    0.2040              0.1480              6.0   \n",
       "2149376                    0.2290              0.0921              9.0   \n",
       "2149377                    0.0650              0.0767              2.0   \n",
       "\n",
       "         audio_feats_loudness  audio_feats_mode  audio_feats_speechiness   \n",
       "0                      -7.105               0.0                   0.1210  \\\n",
       "1                      -3.914               0.0                   0.1140   \n",
       "2                      -6.583               0.0                   0.2090   \n",
       "3                      -6.055               0.0                   0.1410   \n",
       "4                      -4.596               1.0                   0.0713   \n",
       "...                       ...               ...                      ...   \n",
       "2149373                -8.357               1.0                   0.3510   \n",
       "2149374               -26.889               1.0                   0.0531   \n",
       "2149375               -22.488               1.0                   0.0437   \n",
       "2149376               -21.673               1.0                   0.0453   \n",
       "2149377               -24.008               0.0                   0.0421   \n",
       "\n",
       "         audio_feats_acousticness  audio_feats_instrumentalness   \n",
       "0                         0.03110                      0.006970  \\\n",
       "1                         0.02490                      0.025000   \n",
       "2                         0.00238                      0.000000   \n",
       "3                         0.20100                      0.000234   \n",
       "4                         0.05610                      0.000000   \n",
       "...                           ...                           ...   \n",
       "2149373                   0.26900                      0.000000   \n",
       "2149374                   0.99400                      0.982000   \n",
       "2149375                   0.97600                      0.940000   \n",
       "2149376                   0.95900                      0.957000   \n",
       "2149377                   0.98200                      0.974000   \n",
       "\n",
       "         audio_feats_liveness  audio_feats_valence  audio_feats_tempo   \n",
       "0                      0.0471               0.8100            125.461  \\\n",
       "1                      0.2420               0.9240            143.040   \n",
       "2                      0.0598               0.7010             99.252   \n",
       "3                      0.0521               0.8170            100.972   \n",
       "4                      0.3130               0.6540             94.759   \n",
       "...                       ...                  ...                ...   \n",
       "2149373                0.1070               0.5730            109.964   \n",
       "2149374                0.0995               0.0297             76.160   \n",
       "2149375                0.1210               0.0733             89.825   \n",
       "2149376                0.1050               0.0351             62.058   \n",
       "2149377                0.0824               0.0397             70.785   \n",
       "\n",
       "         audio_feats_duration_ms  audio_feats_time_signature  label  \n",
       "0                       226864.0                         4.0     30  \n",
       "1                       198800.0                         4.0     24  \n",
       "2                       235933.0                         4.0     24  \n",
       "3                       267267.0                         4.0     30  \n",
       "4                       227600.0                         4.0     24  \n",
       "...                          ...                         ...    ...  \n",
       "2149373                 280425.0                         4.0     49  \n",
       "2149374                 398707.0                         5.0     25  \n",
       "2149375                 144292.0                         3.0      7  \n",
       "2149376                 203923.0                         4.0     25  \n",
       "2149377                 472813.0                         4.0     44  \n",
       "\n",
       "[2149378 rows x 17 columns]"
      ]
     },
     "execution_count": 8,
     "metadata": {},
     "output_type": "execute_result"
    }
   ],
   "source": [
    "df = pd.read_csv(\"./processed_data.csv\").iloc[:, 1:]\n",
    "df"
   ]
  },
  {
   "cell_type": "markdown",
   "metadata": {},
   "source": [
    "### Tiền xử lý"
   ]
  },
  {
   "cell_type": "markdown",
   "metadata": {},
   "source": [
    "- Lấy ra các trường liên tục"
   ]
  },
  {
   "cell_type": "code",
   "execution_count": 9,
   "metadata": {},
   "outputs": [
    {
     "data": {
      "text/html": [
       "<div>\n",
       "<style scoped>\n",
       "    .dataframe tbody tr th:only-of-type {\n",
       "        vertical-align: middle;\n",
       "    }\n",
       "\n",
       "    .dataframe tbody tr th {\n",
       "        vertical-align: top;\n",
       "    }\n",
       "\n",
       "    .dataframe thead th {\n",
       "        text-align: right;\n",
       "    }\n",
       "</style>\n",
       "<table border=\"1\" class=\"dataframe\">\n",
       "  <thead>\n",
       "    <tr style=\"text-align: right;\">\n",
       "      <th></th>\n",
       "      <th>audio_feats_danceability</th>\n",
       "      <th>audio_feats_energy</th>\n",
       "      <th>audio_feats_key</th>\n",
       "      <th>audio_feats_loudness</th>\n",
       "      <th>audio_feats_mode</th>\n",
       "      <th>audio_feats_speechiness</th>\n",
       "      <th>audio_feats_acousticness</th>\n",
       "      <th>audio_feats_instrumentalness</th>\n",
       "      <th>audio_feats_liveness</th>\n",
       "      <th>audio_feats_valence</th>\n",
       "      <th>audio_feats_tempo</th>\n",
       "      <th>audio_feats_duration_ms</th>\n",
       "      <th>audio_feats_time_signature</th>\n",
       "    </tr>\n",
       "  </thead>\n",
       "  <tbody>\n",
       "    <tr>\n",
       "      <th>0</th>\n",
       "      <td>0.9040</td>\n",
       "      <td>0.8130</td>\n",
       "      <td>4.0</td>\n",
       "      <td>-7.105</td>\n",
       "      <td>0.0</td>\n",
       "      <td>0.1210</td>\n",
       "      <td>0.03110</td>\n",
       "      <td>0.006970</td>\n",
       "      <td>0.0471</td>\n",
       "      <td>0.8100</td>\n",
       "      <td>125.461</td>\n",
       "      <td>226864.0</td>\n",
       "      <td>4.0</td>\n",
       "    </tr>\n",
       "    <tr>\n",
       "      <th>1</th>\n",
       "      <td>0.7740</td>\n",
       "      <td>0.8380</td>\n",
       "      <td>5.0</td>\n",
       "      <td>-3.914</td>\n",
       "      <td>0.0</td>\n",
       "      <td>0.1140</td>\n",
       "      <td>0.02490</td>\n",
       "      <td>0.025000</td>\n",
       "      <td>0.2420</td>\n",
       "      <td>0.9240</td>\n",
       "      <td>143.040</td>\n",
       "      <td>198800.0</td>\n",
       "      <td>4.0</td>\n",
       "    </tr>\n",
       "    <tr>\n",
       "      <th>2</th>\n",
       "      <td>0.6640</td>\n",
       "      <td>0.7590</td>\n",
       "      <td>2.0</td>\n",
       "      <td>-6.583</td>\n",
       "      <td>0.0</td>\n",
       "      <td>0.2090</td>\n",
       "      <td>0.00238</td>\n",
       "      <td>0.000000</td>\n",
       "      <td>0.0598</td>\n",
       "      <td>0.7010</td>\n",
       "      <td>99.252</td>\n",
       "      <td>235933.0</td>\n",
       "      <td>4.0</td>\n",
       "    </tr>\n",
       "    <tr>\n",
       "      <th>3</th>\n",
       "      <td>0.8920</td>\n",
       "      <td>0.7140</td>\n",
       "      <td>4.0</td>\n",
       "      <td>-6.055</td>\n",
       "      <td>0.0</td>\n",
       "      <td>0.1410</td>\n",
       "      <td>0.20100</td>\n",
       "      <td>0.000234</td>\n",
       "      <td>0.0521</td>\n",
       "      <td>0.8170</td>\n",
       "      <td>100.972</td>\n",
       "      <td>267267.0</td>\n",
       "      <td>4.0</td>\n",
       "    </tr>\n",
       "    <tr>\n",
       "      <th>4</th>\n",
       "      <td>0.8530</td>\n",
       "      <td>0.6060</td>\n",
       "      <td>0.0</td>\n",
       "      <td>-4.596</td>\n",
       "      <td>1.0</td>\n",
       "      <td>0.0713</td>\n",
       "      <td>0.05610</td>\n",
       "      <td>0.000000</td>\n",
       "      <td>0.3130</td>\n",
       "      <td>0.6540</td>\n",
       "      <td>94.759</td>\n",
       "      <td>227600.0</td>\n",
       "      <td>4.0</td>\n",
       "    </tr>\n",
       "    <tr>\n",
       "      <th>...</th>\n",
       "      <td>...</td>\n",
       "      <td>...</td>\n",
       "      <td>...</td>\n",
       "      <td>...</td>\n",
       "      <td>...</td>\n",
       "      <td>...</td>\n",
       "      <td>...</td>\n",
       "      <td>...</td>\n",
       "      <td>...</td>\n",
       "      <td>...</td>\n",
       "      <td>...</td>\n",
       "      <td>...</td>\n",
       "      <td>...</td>\n",
       "    </tr>\n",
       "    <tr>\n",
       "      <th>2149373</th>\n",
       "      <td>0.8220</td>\n",
       "      <td>0.6230</td>\n",
       "      <td>10.0</td>\n",
       "      <td>-8.357</td>\n",
       "      <td>1.0</td>\n",
       "      <td>0.3510</td>\n",
       "      <td>0.26900</td>\n",
       "      <td>0.000000</td>\n",
       "      <td>0.1070</td>\n",
       "      <td>0.5730</td>\n",
       "      <td>109.964</td>\n",
       "      <td>280425.0</td>\n",
       "      <td>4.0</td>\n",
       "    </tr>\n",
       "    <tr>\n",
       "      <th>2149374</th>\n",
       "      <td>0.0712</td>\n",
       "      <td>0.0310</td>\n",
       "      <td>5.0</td>\n",
       "      <td>-26.889</td>\n",
       "      <td>1.0</td>\n",
       "      <td>0.0531</td>\n",
       "      <td>0.99400</td>\n",
       "      <td>0.982000</td>\n",
       "      <td>0.0995</td>\n",
       "      <td>0.0297</td>\n",
       "      <td>76.160</td>\n",
       "      <td>398707.0</td>\n",
       "      <td>5.0</td>\n",
       "    </tr>\n",
       "    <tr>\n",
       "      <th>2149375</th>\n",
       "      <td>0.2040</td>\n",
       "      <td>0.1480</td>\n",
       "      <td>6.0</td>\n",
       "      <td>-22.488</td>\n",
       "      <td>1.0</td>\n",
       "      <td>0.0437</td>\n",
       "      <td>0.97600</td>\n",
       "      <td>0.940000</td>\n",
       "      <td>0.1210</td>\n",
       "      <td>0.0733</td>\n",
       "      <td>89.825</td>\n",
       "      <td>144292.0</td>\n",
       "      <td>3.0</td>\n",
       "    </tr>\n",
       "    <tr>\n",
       "      <th>2149376</th>\n",
       "      <td>0.2290</td>\n",
       "      <td>0.0921</td>\n",
       "      <td>9.0</td>\n",
       "      <td>-21.673</td>\n",
       "      <td>1.0</td>\n",
       "      <td>0.0453</td>\n",
       "      <td>0.95900</td>\n",
       "      <td>0.957000</td>\n",
       "      <td>0.1050</td>\n",
       "      <td>0.0351</td>\n",
       "      <td>62.058</td>\n",
       "      <td>203923.0</td>\n",
       "      <td>4.0</td>\n",
       "    </tr>\n",
       "    <tr>\n",
       "      <th>2149377</th>\n",
       "      <td>0.0650</td>\n",
       "      <td>0.0767</td>\n",
       "      <td>2.0</td>\n",
       "      <td>-24.008</td>\n",
       "      <td>0.0</td>\n",
       "      <td>0.0421</td>\n",
       "      <td>0.98200</td>\n",
       "      <td>0.974000</td>\n",
       "      <td>0.0824</td>\n",
       "      <td>0.0397</td>\n",
       "      <td>70.785</td>\n",
       "      <td>472813.0</td>\n",
       "      <td>4.0</td>\n",
       "    </tr>\n",
       "  </tbody>\n",
       "</table>\n",
       "<p>2149378 rows × 13 columns</p>\n",
       "</div>"
      ],
      "text/plain": [
       "         audio_feats_danceability  audio_feats_energy  audio_feats_key   \n",
       "0                          0.9040              0.8130              4.0  \\\n",
       "1                          0.7740              0.8380              5.0   \n",
       "2                          0.6640              0.7590              2.0   \n",
       "3                          0.8920              0.7140              4.0   \n",
       "4                          0.8530              0.6060              0.0   \n",
       "...                           ...                 ...              ...   \n",
       "2149373                    0.8220              0.6230             10.0   \n",
       "2149374                    0.0712              0.0310              5.0   \n",
       "2149375                    0.2040              0.1480              6.0   \n",
       "2149376                    0.2290              0.0921              9.0   \n",
       "2149377                    0.0650              0.0767              2.0   \n",
       "\n",
       "         audio_feats_loudness  audio_feats_mode  audio_feats_speechiness   \n",
       "0                      -7.105               0.0                   0.1210  \\\n",
       "1                      -3.914               0.0                   0.1140   \n",
       "2                      -6.583               0.0                   0.2090   \n",
       "3                      -6.055               0.0                   0.1410   \n",
       "4                      -4.596               1.0                   0.0713   \n",
       "...                       ...               ...                      ...   \n",
       "2149373                -8.357               1.0                   0.3510   \n",
       "2149374               -26.889               1.0                   0.0531   \n",
       "2149375               -22.488               1.0                   0.0437   \n",
       "2149376               -21.673               1.0                   0.0453   \n",
       "2149377               -24.008               0.0                   0.0421   \n",
       "\n",
       "         audio_feats_acousticness  audio_feats_instrumentalness   \n",
       "0                         0.03110                      0.006970  \\\n",
       "1                         0.02490                      0.025000   \n",
       "2                         0.00238                      0.000000   \n",
       "3                         0.20100                      0.000234   \n",
       "4                         0.05610                      0.000000   \n",
       "...                           ...                           ...   \n",
       "2149373                   0.26900                      0.000000   \n",
       "2149374                   0.99400                      0.982000   \n",
       "2149375                   0.97600                      0.940000   \n",
       "2149376                   0.95900                      0.957000   \n",
       "2149377                   0.98200                      0.974000   \n",
       "\n",
       "         audio_feats_liveness  audio_feats_valence  audio_feats_tempo   \n",
       "0                      0.0471               0.8100            125.461  \\\n",
       "1                      0.2420               0.9240            143.040   \n",
       "2                      0.0598               0.7010             99.252   \n",
       "3                      0.0521               0.8170            100.972   \n",
       "4                      0.3130               0.6540             94.759   \n",
       "...                       ...                  ...                ...   \n",
       "2149373                0.1070               0.5730            109.964   \n",
       "2149374                0.0995               0.0297             76.160   \n",
       "2149375                0.1210               0.0733             89.825   \n",
       "2149376                0.1050               0.0351             62.058   \n",
       "2149377                0.0824               0.0397             70.785   \n",
       "\n",
       "         audio_feats_duration_ms  audio_feats_time_signature  \n",
       "0                       226864.0                         4.0  \n",
       "1                       198800.0                         4.0  \n",
       "2                       235933.0                         4.0  \n",
       "3                       267267.0                         4.0  \n",
       "4                       227600.0                         4.0  \n",
       "...                          ...                         ...  \n",
       "2149373                 280425.0                         4.0  \n",
       "2149374                 398707.0                         5.0  \n",
       "2149375                 144292.0                         3.0  \n",
       "2149376                 203923.0                         4.0  \n",
       "2149377                 472813.0                         4.0  \n",
       "\n",
       "[2149378 rows x 13 columns]"
      ]
     },
     "execution_count": 9,
     "metadata": {},
     "output_type": "execute_result"
    }
   ],
   "source": [
    "X = df.iloc[:, 3:-1]\n",
    "X"
   ]
  },
  {
   "cell_type": "markdown",
   "metadata": {},
   "source": [
    "- Lấy ra các labels"
   ]
  },
  {
   "cell_type": "code",
   "execution_count": 10,
   "metadata": {},
   "outputs": [
    {
     "data": {
      "text/plain": [
       "0          30\n",
       "1          24\n",
       "2          24\n",
       "3          30\n",
       "4          24\n",
       "           ..\n",
       "2149373    49\n",
       "2149374    25\n",
       "2149375     7\n",
       "2149376    25\n",
       "2149377    44\n",
       "Name: label, Length: 2149378, dtype: int64"
      ]
     },
     "execution_count": 10,
     "metadata": {},
     "output_type": "execute_result"
    }
   ],
   "source": [
    "Y = df.iloc[:, -1]\n",
    "Y"
   ]
  },
  {
   "cell_type": "markdown",
   "metadata": {},
   "source": [
    "- Drop một số trường phân loại đi"
   ]
  },
  {
   "cell_type": "code",
   "execution_count": 11,
   "metadata": {},
   "outputs": [
    {
     "data": {
      "text/html": [
       "<div>\n",
       "<style scoped>\n",
       "    .dataframe tbody tr th:only-of-type {\n",
       "        vertical-align: middle;\n",
       "    }\n",
       "\n",
       "    .dataframe tbody tr th {\n",
       "        vertical-align: top;\n",
       "    }\n",
       "\n",
       "    .dataframe thead th {\n",
       "        text-align: right;\n",
       "    }\n",
       "</style>\n",
       "<table border=\"1\" class=\"dataframe\">\n",
       "  <thead>\n",
       "    <tr style=\"text-align: right;\">\n",
       "      <th></th>\n",
       "      <th>audio_feats_danceability</th>\n",
       "      <th>audio_feats_energy</th>\n",
       "      <th>audio_feats_loudness</th>\n",
       "      <th>audio_feats_speechiness</th>\n",
       "      <th>audio_feats_acousticness</th>\n",
       "      <th>audio_feats_instrumentalness</th>\n",
       "      <th>audio_feats_liveness</th>\n",
       "      <th>audio_feats_valence</th>\n",
       "      <th>audio_feats_tempo</th>\n",
       "      <th>audio_feats_duration_ms</th>\n",
       "    </tr>\n",
       "  </thead>\n",
       "  <tbody>\n",
       "    <tr>\n",
       "      <th>0</th>\n",
       "      <td>0.9040</td>\n",
       "      <td>0.8130</td>\n",
       "      <td>-7.105</td>\n",
       "      <td>0.1210</td>\n",
       "      <td>0.03110</td>\n",
       "      <td>0.006970</td>\n",
       "      <td>0.0471</td>\n",
       "      <td>0.8100</td>\n",
       "      <td>125.461</td>\n",
       "      <td>226864.0</td>\n",
       "    </tr>\n",
       "    <tr>\n",
       "      <th>1</th>\n",
       "      <td>0.7740</td>\n",
       "      <td>0.8380</td>\n",
       "      <td>-3.914</td>\n",
       "      <td>0.1140</td>\n",
       "      <td>0.02490</td>\n",
       "      <td>0.025000</td>\n",
       "      <td>0.2420</td>\n",
       "      <td>0.9240</td>\n",
       "      <td>143.040</td>\n",
       "      <td>198800.0</td>\n",
       "    </tr>\n",
       "    <tr>\n",
       "      <th>2</th>\n",
       "      <td>0.6640</td>\n",
       "      <td>0.7590</td>\n",
       "      <td>-6.583</td>\n",
       "      <td>0.2090</td>\n",
       "      <td>0.00238</td>\n",
       "      <td>0.000000</td>\n",
       "      <td>0.0598</td>\n",
       "      <td>0.7010</td>\n",
       "      <td>99.252</td>\n",
       "      <td>235933.0</td>\n",
       "    </tr>\n",
       "    <tr>\n",
       "      <th>3</th>\n",
       "      <td>0.8920</td>\n",
       "      <td>0.7140</td>\n",
       "      <td>-6.055</td>\n",
       "      <td>0.1410</td>\n",
       "      <td>0.20100</td>\n",
       "      <td>0.000234</td>\n",
       "      <td>0.0521</td>\n",
       "      <td>0.8170</td>\n",
       "      <td>100.972</td>\n",
       "      <td>267267.0</td>\n",
       "    </tr>\n",
       "    <tr>\n",
       "      <th>4</th>\n",
       "      <td>0.8530</td>\n",
       "      <td>0.6060</td>\n",
       "      <td>-4.596</td>\n",
       "      <td>0.0713</td>\n",
       "      <td>0.05610</td>\n",
       "      <td>0.000000</td>\n",
       "      <td>0.3130</td>\n",
       "      <td>0.6540</td>\n",
       "      <td>94.759</td>\n",
       "      <td>227600.0</td>\n",
       "    </tr>\n",
       "    <tr>\n",
       "      <th>...</th>\n",
       "      <td>...</td>\n",
       "      <td>...</td>\n",
       "      <td>...</td>\n",
       "      <td>...</td>\n",
       "      <td>...</td>\n",
       "      <td>...</td>\n",
       "      <td>...</td>\n",
       "      <td>...</td>\n",
       "      <td>...</td>\n",
       "      <td>...</td>\n",
       "    </tr>\n",
       "    <tr>\n",
       "      <th>2149373</th>\n",
       "      <td>0.8220</td>\n",
       "      <td>0.6230</td>\n",
       "      <td>-8.357</td>\n",
       "      <td>0.3510</td>\n",
       "      <td>0.26900</td>\n",
       "      <td>0.000000</td>\n",
       "      <td>0.1070</td>\n",
       "      <td>0.5730</td>\n",
       "      <td>109.964</td>\n",
       "      <td>280425.0</td>\n",
       "    </tr>\n",
       "    <tr>\n",
       "      <th>2149374</th>\n",
       "      <td>0.0712</td>\n",
       "      <td>0.0310</td>\n",
       "      <td>-26.889</td>\n",
       "      <td>0.0531</td>\n",
       "      <td>0.99400</td>\n",
       "      <td>0.982000</td>\n",
       "      <td>0.0995</td>\n",
       "      <td>0.0297</td>\n",
       "      <td>76.160</td>\n",
       "      <td>398707.0</td>\n",
       "    </tr>\n",
       "    <tr>\n",
       "      <th>2149375</th>\n",
       "      <td>0.2040</td>\n",
       "      <td>0.1480</td>\n",
       "      <td>-22.488</td>\n",
       "      <td>0.0437</td>\n",
       "      <td>0.97600</td>\n",
       "      <td>0.940000</td>\n",
       "      <td>0.1210</td>\n",
       "      <td>0.0733</td>\n",
       "      <td>89.825</td>\n",
       "      <td>144292.0</td>\n",
       "    </tr>\n",
       "    <tr>\n",
       "      <th>2149376</th>\n",
       "      <td>0.2290</td>\n",
       "      <td>0.0921</td>\n",
       "      <td>-21.673</td>\n",
       "      <td>0.0453</td>\n",
       "      <td>0.95900</td>\n",
       "      <td>0.957000</td>\n",
       "      <td>0.1050</td>\n",
       "      <td>0.0351</td>\n",
       "      <td>62.058</td>\n",
       "      <td>203923.0</td>\n",
       "    </tr>\n",
       "    <tr>\n",
       "      <th>2149377</th>\n",
       "      <td>0.0650</td>\n",
       "      <td>0.0767</td>\n",
       "      <td>-24.008</td>\n",
       "      <td>0.0421</td>\n",
       "      <td>0.98200</td>\n",
       "      <td>0.974000</td>\n",
       "      <td>0.0824</td>\n",
       "      <td>0.0397</td>\n",
       "      <td>70.785</td>\n",
       "      <td>472813.0</td>\n",
       "    </tr>\n",
       "  </tbody>\n",
       "</table>\n",
       "<p>2149378 rows × 10 columns</p>\n",
       "</div>"
      ],
      "text/plain": [
       "         audio_feats_danceability  audio_feats_energy  audio_feats_loudness   \n",
       "0                          0.9040              0.8130                -7.105  \\\n",
       "1                          0.7740              0.8380                -3.914   \n",
       "2                          0.6640              0.7590                -6.583   \n",
       "3                          0.8920              0.7140                -6.055   \n",
       "4                          0.8530              0.6060                -4.596   \n",
       "...                           ...                 ...                   ...   \n",
       "2149373                    0.8220              0.6230                -8.357   \n",
       "2149374                    0.0712              0.0310               -26.889   \n",
       "2149375                    0.2040              0.1480               -22.488   \n",
       "2149376                    0.2290              0.0921               -21.673   \n",
       "2149377                    0.0650              0.0767               -24.008   \n",
       "\n",
       "         audio_feats_speechiness  audio_feats_acousticness   \n",
       "0                         0.1210                   0.03110  \\\n",
       "1                         0.1140                   0.02490   \n",
       "2                         0.2090                   0.00238   \n",
       "3                         0.1410                   0.20100   \n",
       "4                         0.0713                   0.05610   \n",
       "...                          ...                       ...   \n",
       "2149373                   0.3510                   0.26900   \n",
       "2149374                   0.0531                   0.99400   \n",
       "2149375                   0.0437                   0.97600   \n",
       "2149376                   0.0453                   0.95900   \n",
       "2149377                   0.0421                   0.98200   \n",
       "\n",
       "         audio_feats_instrumentalness  audio_feats_liveness   \n",
       "0                            0.006970                0.0471  \\\n",
       "1                            0.025000                0.2420   \n",
       "2                            0.000000                0.0598   \n",
       "3                            0.000234                0.0521   \n",
       "4                            0.000000                0.3130   \n",
       "...                               ...                   ...   \n",
       "2149373                      0.000000                0.1070   \n",
       "2149374                      0.982000                0.0995   \n",
       "2149375                      0.940000                0.1210   \n",
       "2149376                      0.957000                0.1050   \n",
       "2149377                      0.974000                0.0824   \n",
       "\n",
       "         audio_feats_valence  audio_feats_tempo  audio_feats_duration_ms  \n",
       "0                     0.8100            125.461                 226864.0  \n",
       "1                     0.9240            143.040                 198800.0  \n",
       "2                     0.7010             99.252                 235933.0  \n",
       "3                     0.8170            100.972                 267267.0  \n",
       "4                     0.6540             94.759                 227600.0  \n",
       "...                      ...                ...                      ...  \n",
       "2149373               0.5730            109.964                 280425.0  \n",
       "2149374               0.0297             76.160                 398707.0  \n",
       "2149375               0.0733             89.825                 144292.0  \n",
       "2149376               0.0351             62.058                 203923.0  \n",
       "2149377               0.0397             70.785                 472813.0  \n",
       "\n",
       "[2149378 rows x 10 columns]"
      ]
     },
     "execution_count": 11,
     "metadata": {},
     "output_type": "execute_result"
    }
   ],
   "source": [
    "continuous_data = X.drop(columns=[\"audio_feats_key\", \"audio_feats_mode\", \"audio_feats_time_signature\"])\n",
    "continuous_data"
   ]
  },
  {
   "cell_type": "code",
   "execution_count": 12,
   "metadata": {},
   "outputs": [
    {
     "data": {
      "text/plain": [
       "Index(['audio_feats_danceability', 'audio_feats_energy',\n",
       "       'audio_feats_loudness', 'audio_feats_speechiness',\n",
       "       'audio_feats_acousticness', 'audio_feats_instrumentalness',\n",
       "       'audio_feats_liveness', 'audio_feats_valence', 'audio_feats_tempo',\n",
       "       'audio_feats_duration_ms'],\n",
       "      dtype='object')"
      ]
     },
     "execution_count": 12,
     "metadata": {},
     "output_type": "execute_result"
    }
   ],
   "source": [
    "continuous_data.columns"
   ]
  },
  {
   "cell_type": "markdown",
   "metadata": {},
   "source": [
    "- Scale dữ liệu về phân bố chuẩn và áp dụng PCA về còn 3 chiều (Để giúp cho việc trực quan, cluster và tính toán dễ dàng, nhanh hơn)"
   ]
  },
  {
   "cell_type": "code",
   "execution_count": 13,
   "metadata": {},
   "outputs": [
    {
     "data": {
      "text/plain": [
       "array([[-2.19658248e+00, -1.29361192e+00, -8.87683980e-01],\n",
       "       [-2.63215089e+00, -6.70602015e-01, -3.01267420e-01],\n",
       "       [-1.59941039e+00, -8.51452029e-01,  1.53082773e-02],\n",
       "       ...,\n",
       "       [ 4.54106112e+00,  1.32775440e-01,  9.52485594e-03],\n",
       "       [ 4.75713131e+00,  6.57297456e-04,  7.25920036e-02],\n",
       "       [ 5.36735658e+00,  1.08679701e+00,  3.64164611e-03]])"
      ]
     },
     "execution_count": 13,
     "metadata": {},
     "output_type": "execute_result"
    }
   ],
   "source": [
    "processed_train = pca.transform(scaler.transform(continuous_data))\n",
    "processed_train"
   ]
  },
  {
   "cell_type": "markdown",
   "metadata": {},
   "source": [
    "## Test đầu vào"
   ]
  },
  {
   "cell_type": "markdown",
   "metadata": {},
   "source": [
    "- Chuẩn bị dữ liệu input"
   ]
  },
  {
   "cell_type": "code",
   "execution_count": 14,
   "metadata": {},
   "outputs": [
    {
     "data": {
      "text/plain": [
       "'4S0zagxseJHOL5ZVnTQA6X'"
      ]
     },
     "execution_count": 14,
     "metadata": {},
     "output_type": "execute_result"
    }
   ],
   "source": [
    "# input_vector = np.array([0.601, 0.789, -6.822, 0.0328, 0.0395, 0.812, 0.114, 0.315, 137.06, 205926.0])\n",
    "input_vector= [ 6.89000e-01,  2.68000e-01, -1.57220e+01,  5.05000e-01,9.23000e-01,  1.69000e-06,  3.10000e-01,  5.69000e-01,1.21202e+02,  9.10630e+04]\n",
    "input_id = \"4S0zagxseJHOL5ZVnTQA6X\"\n",
    "input_id"
   ]
  },
  {
   "cell_type": "markdown",
   "metadata": {},
   "source": [
    "- Scale dữ liệu input về phân bố chuẩn và áp dụng PCA về 3 chiều"
   ]
  },
  {
   "cell_type": "code",
   "execution_count": 15,
   "metadata": {},
   "outputs": [
    {
     "name": "stderr",
     "output_type": "stream",
     "text": [
      "c:\\Users\\Admin\\AppData\\Local\\Programs\\Python\\Python311\\Lib\\site-packages\\sklearn\\base.py:439: UserWarning: X does not have valid feature names, but StandardScaler was fitted with feature names\n",
      "  warnings.warn(\n"
     ]
    },
    {
     "data": {
      "text/plain": [
       "array([ 0.71516298, -2.53901098,  2.94671557])"
      ]
     },
     "execution_count": 15,
     "metadata": {},
     "output_type": "execute_result"
    }
   ],
   "source": [
    "temp = pca.transform(scaler.transform([input_vector])).flatten()\n",
    "temp"
   ]
  },
  {
   "cell_type": "markdown",
   "metadata": {},
   "source": [
    "- Sử dụng model k mean dự đoán label của bài input"
   ]
  },
  {
   "cell_type": "code",
   "execution_count": 16,
   "metadata": {},
   "outputs": [
    {
     "data": {
      "text/plain": [
       "array([20])"
      ]
     },
     "execution_count": 16,
     "metadata": {},
     "output_type": "execute_result"
    }
   ],
   "source": [
    "pred = k_mean.predict([temp])\n",
    "pred"
   ]
  },
  {
   "cell_type": "markdown",
   "metadata": {},
   "source": [
    "- Để giảm thiểu thời gian chạy của thuật toán cosine similarity thì việc clustering là rất cần thiết <br/>\n",
    "=> Lấy ra tất cả các bài có cùng label với bài input"
   ]
  },
  {
   "cell_type": "code",
   "execution_count": 17,
   "metadata": {},
   "outputs": [
    {
     "data": {
      "text/plain": [
       "array(['0hkxAENNrJ18AzHqync5n3', '3eze1OsZ1rqeXkKStNfTmi',\n",
       "       '5tsI3xxDHDgzHhn30LTQNz', ..., '2Ttgv5kpXX4dKvtyhKXNbv',\n",
       "       '61OLOsYMI9PuUftr0muz28', '18o37lczunBF67BRPMBO64'], dtype=object)"
      ]
     },
     "execution_count": 17,
     "metadata": {},
     "output_type": "execute_result"
    }
   ],
   "source": [
    "group = processed_train[Y.to_numpy() == pred]\n",
    "group_ID = df[\"ID\"].to_numpy()[Y.to_numpy() == pred]\n",
    "group_ID"
   ]
  },
  {
   "cell_type": "markdown",
   "metadata": {},
   "source": [
    "## So sánh kết quả"
   ]
  },
  {
   "cell_type": "code",
   "execution_count": 18,
   "metadata": {},
   "outputs": [],
   "source": [
    "dist, indx = get_top10_neighborest(temp, group)\n",
    "dist2, indx2 = get_closest(temp, group)\n",
    "dist3 = cdist([temp], group, metric=\"cosine\")\n",
    "indx3 = np.argsort(dist3).flatten()\n"
   ]
  },
  {
   "cell_type": "markdown",
   "metadata": {},
   "source": [
    "### Kết quả sử dụng công thức cosine similarity bình thường"
   ]
  },
  {
   "cell_type": "markdown",
   "metadata": {},
   "source": [
    "- Kết quả chạy"
   ]
  },
  {
   "cell_type": "code",
   "execution_count": 19,
   "metadata": {},
   "outputs": [
    {
     "data": {
      "text/plain": [
       "(array([[1.11022302e-16, 4.00426661e-06, 1.06983968e-05, ...,\n",
       "         2.12818119e-01, 2.17459897e-01, 2.19018252e-01]]),\n",
       " array([   0, 5296, 4451, ..., 4481, 4800,  258], dtype=int64))"
      ]
     },
     "execution_count": 19,
     "metadata": {},
     "output_type": "execute_result"
    }
   ],
   "source": [
    "np.sort(dist3), indx3"
   ]
  },
  {
   "cell_type": "markdown",
   "metadata": {},
   "source": [
    "- Thời gian chạy khi ko sử dụng K mean để phân cụm"
   ]
  },
  {
   "cell_type": "code",
   "execution_count": 20,
   "metadata": {},
   "outputs": [
    {
     "name": "stdout",
     "output_type": "stream",
     "text": [
      "25.7 ms ± 865 µs per loop (mean ± std. dev. of 7 runs, 10 loops each)\n"
     ]
    }
   ],
   "source": [
    "%timeit cdist([temp], processed_train, metric=\"cosine\")"
   ]
  },
  {
   "cell_type": "markdown",
   "metadata": {},
   "source": [
    "- Thời gian chạy sử dụng K mean để phân cụm"
   ]
  },
  {
   "cell_type": "code",
   "execution_count": 21,
   "metadata": {},
   "outputs": [
    {
     "name": "stdout",
     "output_type": "stream",
     "text": [
      "87.7 µs ± 1.06 µs per loop (mean ± std. dev. of 7 runs, 10,000 loops each)\n"
     ]
    }
   ],
   "source": [
    "%timeit cdist([temp], group, metric=\"cosine\")"
   ]
  },
  {
   "cell_type": "markdown",
   "metadata": {},
   "source": [
    "### Kết quả sử dụng FAISS"
   ]
  },
  {
   "cell_type": "markdown",
   "metadata": {},
   "source": [
    "- Kết quả chạy"
   ]
  },
  {
   "cell_type": "code",
   "execution_count": 22,
   "metadata": {},
   "outputs": [
    {
     "data": {
      "text/plain": [
       "(array([[1.        , 0.999996  , 0.99998933, 0.99998784, 0.9999727 ,\n",
       "         0.99996924, 0.9999629 , 0.9999503 , 0.9999465 , 0.9999452 ]],\n",
       "       dtype=float32),\n",
       " array([    0,  5296,  4451, 16124, 12167, 11685, 13896,  3301,  5027,\n",
       "        11728], dtype=int64))"
      ]
     },
     "execution_count": 22,
     "metadata": {},
     "output_type": "execute_result"
    }
   ],
   "source": [
    "dist2, indx2"
   ]
  },
  {
   "cell_type": "markdown",
   "metadata": {},
   "source": [
    "- Thời gian chạy khi ko sử dụng K mean để phân cụm"
   ]
  },
  {
   "cell_type": "code",
   "execution_count": 23,
   "metadata": {},
   "outputs": [
    {
     "name": "stdout",
     "output_type": "stream",
     "text": [
      "123 ms ± 1.77 ms per loop (mean ± std. dev. of 7 runs, 10 loops each)\n"
     ]
    }
   ],
   "source": [
    "%timeit get_closest(temp, processed_train)"
   ]
  },
  {
   "cell_type": "markdown",
   "metadata": {},
   "source": [
    "- Thời gian chạy khi sử dụng K mean để phân cụm"
   ]
  },
  {
   "cell_type": "code",
   "execution_count": 24,
   "metadata": {},
   "outputs": [
    {
     "name": "stdout",
     "output_type": "stream",
     "text": [
      "472 µs ± 4.69 µs per loop (mean ± std. dev. of 7 runs, 1,000 loops each)\n"
     ]
    }
   ],
   "source": [
    "%timeit get_closest(temp, group)"
   ]
  },
  {
   "cell_type": "markdown",
   "metadata": {},
   "source": [
    "### Matrix multiply"
   ]
  },
  {
   "cell_type": "code",
   "execution_count": 25,
   "metadata": {},
   "outputs": [
    {
     "name": "stdout",
     "output_type": "stream",
     "text": [
      "79.8 ms ± 399 µs per loop (mean ± std. dev. of 7 runs, 10 loops each)\n"
     ]
    }
   ],
   "source": [
    "%timeit cosine_similarity(processed_train, temp)"
   ]
  },
  {
   "cell_type": "code",
   "execution_count": 26,
   "metadata": {},
   "outputs": [
    {
     "name": "stdout",
     "output_type": "stream",
     "text": [
      "332 µs ± 3.55 µs per loop (mean ± std. dev. of 7 runs, 1,000 loops each)\n"
     ]
    }
   ],
   "source": [
    "%timeit cosine_similarity(group, temp)"
   ]
  },
  {
   "cell_type": "markdown",
   "metadata": {},
   "source": [
    "## Lấy ra các ID từ kết quả chạy được"
   ]
  },
  {
   "cell_type": "markdown",
   "metadata": {},
   "source": [
    "- FAISS"
   ]
  },
  {
   "cell_type": "code",
   "execution_count": 23,
   "metadata": {},
   "outputs": [
    {
     "data": {
      "text/plain": [
       "['0hkxAENNrJ18AzHqync5n3',\n",
       " '6I0VTz6ZM9baTiF7tmQiSo',\n",
       " '0c2JAT3kHR10OtP6Fo6Gsp',\n",
       " '2WEkcN2px48oY4H6hsKkWm',\n",
       " '0FKzmqTBCJpFLeHexdUrf5',\n",
       " '7H5gjcPW0sM6LnwRl0wW12',\n",
       " '2EMQMhtArm8keUpQw81KrX',\n",
       " '0I0X4crb43LYAeSEIN9sSA',\n",
       " '3zxqeUdFVsmDQymkkN96Im',\n",
       " '54Ax1ooNyhTER5bR2JmzqG']"
      ]
     },
     "execution_count": 23,
     "metadata": {},
     "output_type": "execute_result"
    }
   ],
   "source": [
    "rcm_ID2 = []\n",
    "for i in range(len(dist2.flatten())):\n",
    "    # if (input_id == group_ID[indx2.flatten()[i]]):\n",
    "    #     print(f\"Dupp: {group_ID[indx2.flatten()[i]]}\")\n",
    "    #     continue\n",
    "    rcm_ID2.append(group_ID[indx2.flatten()[i]])\n",
    "\n",
    "rcm_ID2"
   ]
  },
  {
   "cell_type": "markdown",
   "metadata": {},
   "source": [
    "- Công thức cosine similarity"
   ]
  },
  {
   "cell_type": "code",
   "execution_count": 24,
   "metadata": {},
   "outputs": [
    {
     "data": {
      "text/plain": [
       "['0hkxAENNrJ18AzHqync5n3',\n",
       " '6I0VTz6ZM9baTiF7tmQiSo',\n",
       " '0c2JAT3kHR10OtP6Fo6Gsp',\n",
       " '2WEkcN2px48oY4H6hsKkWm',\n",
       " '0FKzmqTBCJpFLeHexdUrf5',\n",
       " '7H5gjcPW0sM6LnwRl0wW12',\n",
       " '2EMQMhtArm8keUpQw81KrX',\n",
       " '0I0X4crb43LYAeSEIN9sSA',\n",
       " '3zxqeUdFVsmDQymkkN96Im',\n",
       " '54Ax1ooNyhTER5bR2JmzqG']"
      ]
     },
     "execution_count": 24,
     "metadata": {},
     "output_type": "execute_result"
    }
   ],
   "source": [
    "rcm_ID3 = [id for id in group_ID[indx3]]\n",
    "rcm_ID3[:10]"
   ]
  },
  {
   "cell_type": "markdown",
   "metadata": {},
   "source": [
    "## So sánh feature của input và kết quả recommend"
   ]
  },
  {
   "cell_type": "markdown",
   "metadata": {},
   "source": [
    "- input"
   ]
  },
  {
   "cell_type": "code",
   "execution_count": 23,
   "metadata": {},
   "outputs": [
    {
     "data": {
      "text/plain": [
       "[0.689, 0.268, -15.722, 0.505, 0.923, 1.69e-06, 0.31, 0.569, 121.202, 91063.0]"
      ]
     },
     "execution_count": 23,
     "metadata": {},
     "output_type": "execute_result"
    }
   ],
   "source": [
    "input_vector"
   ]
  },
  {
   "cell_type": "markdown",
   "metadata": {},
   "source": [
    "- recommend"
   ]
  },
  {
   "cell_type": "code",
   "execution_count": 27,
   "metadata": {},
   "outputs": [
    {
     "data": {
      "text/plain": [
       "array([[ 6.89000e-01,  2.68000e-01, -1.57220e+01,  5.05000e-01,\n",
       "         9.23000e-01,  1.69000e-06,  3.10000e-01,  5.69000e-01,\n",
       "         1.21202e+02,  9.10630e+04]])"
      ]
     },
     "execution_count": 27,
     "metadata": {},
     "output_type": "execute_result"
    }
   ],
   "source": [
    "continuous_data[df[\"ID\"] == \"0hkxAENNrJ18AzHqync5n3\"].to_numpy()"
   ]
  }
 ],
 "metadata": {
  "kernelspec": {
   "display_name": "Python 3",
   "language": "python",
   "name": "python3"
  },
  "language_info": {
   "codemirror_mode": {
    "name": "ipython",
    "version": 3
   },
   "file_extension": ".py",
   "mimetype": "text/x-python",
   "name": "python",
   "nbconvert_exporter": "python",
   "pygments_lexer": "ipython3",
   "version": "3.11.3"
  }
 },
 "nbformat": 4,
 "nbformat_minor": 2
}
